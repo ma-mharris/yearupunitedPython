{
  "cells": [
    {
      "cell_type": "markdown",
      "metadata": {
        "id": "view-in-github",
        "colab_type": "text"
      },
      "source": [
        "<a href=\"https://colab.research.google.com/github/ma-mharris/yearupunitedPython/blob/main/Copy_of_04_session.ipynb\" target=\"_parent\"><img src=\"https://colab.research.google.com/assets/colab-badge.svg\" alt=\"Open In Colab\"/></a>"
      ]
    },
    {
      "cell_type": "markdown",
      "id": "80010d9d",
      "metadata": {
        "id": "80010d9d"
      },
      "source": [
        "# Session 4: Advanced Logic\n",
        "\n",
        "Now that we understand basic conditionals, we will focus on **advanced logic structures**, including **deeply nested conditions, multi-level decision-making, and optimizing complex logic**.\n",
        "\n",
        "## Agenda\n",
        "1. **Review and Demo** (15 minutes): Quick recap of logical operators and conditionals.\n",
        "2. **New Information – Advanced Nested Conditions** (40–45 minutes): Learn how to optimize and structure multi-level conditions.\n",
        "3. **We Do (Exercises) and Wrap-Up** (30 minutes): Solve a complex real-world decision-making challenge.\n"
      ]
    },
    {
      "cell_type": "markdown",
      "id": "fe5684d9",
      "metadata": {
        "id": "fe5684d9"
      },
      "source": [
        "## Part 1: Review and Demo"
      ]
    },
    {
      "cell_type": "markdown",
      "id": "e18f4853",
      "metadata": {
        "id": "e18f4853"
      },
      "source": [
        "Let's review key concepts from Session 1 before moving to advanced conditional logic.\n",
        "\n",
        "**Key Topics from Session 1:**\n",
        "- Logical operators (`and`, `or`, `not`).\n",
        "- Boolean values and truthy/falsy evaluation.\n",
        "- Writing simple `if-else` statements.\n",
        "\n",
        "### Quick Review Questions:\n",
        "1. What is the difference between `and` and `or` operators?\n",
        "2. Why might excessive nesting be problematic in conditionals?\n",
        "3. What values are considered falsy?\n"
      ]
    },
    {
      "cell_type": "code",
      "execution_count": 2,
      "id": "c871dc4b",
      "metadata": {
        "id": "c871dc4b",
        "colab": {
          "base_uri": "https://localhost:8080/"
        },
        "outputId": "253353db-41a4-4c08-8302-c7d1a830d0e9"
      },
      "outputs": [
        {
          "output_type": "stream",
          "name": "stdout",
          "text": [
            "Either Tuesday or Wednesday condition is met.\n"
          ]
        }
      ],
      "source": [
        "# Review: Logical Operators\n",
        "\n",
        "# Variables Sunday, Monday, Tuesday, and Wednesday are not defined. Assuming they are meant to be boolean values.\n",
        "# Corrected code based on the likely intention of using if-elif-else structure.\n",
        "\n",
        "Sunday = True  # Example values\n",
        "Monday = False\n",
        "Tuesday = True\n",
        "Wednesday = False\n",
        "\n",
        "if Sunday and Monday:\n",
        "    print(\"Both Sunday and Monday conditions are met.\")\n",
        "elif Tuesday or Wednesday:\n",
        "    print(\"Either Tuesday or Wednesday condition is met.\")\n",
        "else:\n",
        "    print(\"No specific condition is met.\")"
      ]
    },
    {
      "cell_type": "code",
      "execution_count": null,
      "id": "3c7667ba",
      "metadata": {
        "id": "3c7667ba"
      },
      "outputs": [],
      "source": [
        "# Review: Truthy/Falsy Values\n"
      ]
    },
    {
      "cell_type": "markdown",
      "id": "334494d2",
      "metadata": {
        "id": "334494d2"
      },
      "source": [
        "## Part 2: New Information – Structuring Complex Decision Trees"
      ]
    },
    {
      "cell_type": "markdown",
      "id": "66acde0a",
      "metadata": {
        "id": "66acde0a"
      },
      "source": [
        "### 1. Nested If-Else Statements\n",
        "Conditional statements can be nested for more complex logic.\n",
        "\n",
        "**Example:**"
      ]
    },
    {
      "cell_type": "code",
      "execution_count": null,
      "id": "6ecf1e0f",
      "metadata": {
        "id": "6ecf1e0f",
        "outputId": "e867088d-00cf-4aa8-8a75-e897e585ef78",
        "colab": {
          "base_uri": "https://localhost:8080/"
        }
      },
      "outputs": [
        {
          "output_type": "stream",
          "name": "stdout",
          "text": [
            "You passed!\n",
            "Good job!\n"
          ]
        }
      ],
      "source": [
        "score = 85\n",
        "if score >= 60:\n",
        "    print('You passed!')\n",
        "    if score >= 90:\n",
        "        print('Excellent work!')\n",
        "    elif score >= 75:\n",
        "        print('Good job!')\n",
        "else:\n",
        "    print('You failed.')"
      ]
    },
    {
      "cell_type": "code",
      "execution_count": null,
      "id": "0d897f88",
      "metadata": {
        "id": "0d897f88",
        "outputId": "97cb0616-c806-4c78-9b1b-11490885e716",
        "colab": {
          "base_uri": "https://localhost:8080/"
        }
      },
      "outputs": [
        {
          "output_type": "stream",
          "name": "stdout",
          "text": [
            "You are eligible for the job\n"
          ]
        }
      ],
      "source": [
        "age = 25\n",
        "experience = 2\n",
        "if age >= 18:\n",
        "    if experience >= 1:\n",
        "        print('You are eligible for the job')\n",
        "    else:\n",
        "        print('More experience needed')\n",
        "else:\n",
        "    print('You are too young for this role')"
      ]
    },
    {
      "cell_type": "markdown",
      "id": "ebdb2450",
      "metadata": {
        "id": "ebdb2450"
      },
      "source": [
        "### 2. Deeply Nested Conditions\n",
        "When handling **multi-step logic**, conditions may become deeply nested. However, excessive nesting can make code hard to read.\n",
        "\n",
        "**Example of deep nesting (bad practice):**\n"
      ]
    },
    {
      "cell_type": "code",
      "execution_count": null,
      "id": "1e92fbb0",
      "metadata": {
        "id": "1e92fbb0",
        "outputId": "add67408-f900-4d75-ca05-1783200c5131",
        "colab": {
          "base_uri": "https://localhost:8080/"
        }
      },
      "outputs": [
        {
          "output_type": "stream",
          "name": "stdout",
          "text": [
            "Loan approved\n"
          ]
        }
      ],
      "source": [
        "age = 30\n",
        "income = 50000\n",
        "credit_score = 750\n",
        "if age >= 18:\n",
        "    if income >= 25000:\n",
        "        if credit_score >= 700:\n",
        "            print('Loan approved')\n",
        "        else:\n",
        "            print('Credit score too low')\n",
        "    else:\n",
        "        print('Income too low')\n",
        "else:\n",
        "    print('Applicant is underage')\n"
      ]
    },
    {
      "cell_type": "markdown",
      "id": "bf6f28d6",
      "metadata": {
        "id": "bf6f28d6"
      },
      "source": [
        "This works but is **not optimal**. We can **flatten** the logic using `and` conditions:\n"
      ]
    },
    {
      "cell_type": "code",
      "execution_count": null,
      "id": "1ddb182a",
      "metadata": {
        "id": "1ddb182a",
        "outputId": "4b55e72d-0d4f-419e-a272-2de5f5f13907",
        "colab": {
          "base_uri": "https://localhost:8080/"
        }
      },
      "outputs": [
        {
          "output_type": "stream",
          "name": "stdout",
          "text": [
            "Loan approved\n"
          ]
        }
      ],
      "source": [
        "if age >= 18 and income >= 25000 and credit_score >= 700:\n",
        "    print('Loan approved')\n",
        "elif age < 18:\n",
        "    print('Applicant is underage')\n",
        "elif income < 25000:\n",
        "    print('Income too low')\n",
        "else:\n",
        "    print('Credit score too low')\n"
      ]
    },
    {
      "cell_type": "markdown",
      "id": "bd094f4f",
      "metadata": {
        "id": "bd094f4f"
      },
      "source": [
        "### 3. Multi-Level Decision Structures"
      ]
    },
    {
      "cell_type": "markdown",
      "id": "6ee6e8b1",
      "metadata": {
        "id": "6ee6e8b1"
      },
      "source": [
        "We can **combine** multiple conditions to create decision trees.\n",
        "\n",
        "**Example:** Ticket Pricing System\n"
      ]
    },
    {
      "cell_type": "code",
      "execution_count": null,
      "id": "a51cc797",
      "metadata": {
        "id": "a51cc797",
        "outputId": "246a124f-483d-4716-eae6-7c709d0f5610",
        "colab": {
          "base_uri": "https://localhost:8080/"
        }
      },
      "outputs": [
        {
          "output_type": "stream",
          "name": "stdout",
          "text": [
            "Ticket price: $9.0\n"
          ]
        }
      ],
      "source": [
        "age = 18\n",
        "membership = True\n",
        "\n",
        "if age < 12:\n",
        "    price = 5\n",
        "elif age < 18:\n",
        "    price = 8\n",
        "elif age >= 60:\n",
        "    price = 6\n",
        "else:\n",
        "    price = 10\n",
        "\n",
        "if membership:\n",
        "    price *= 0.9  # 10% discount for members\n",
        "\n",
        "print('Ticket price: $' + str(price))\n"
      ]
    },
    {
      "cell_type": "markdown",
      "id": "1b390ded",
      "metadata": {
        "id": "1b390ded"
      },
      "source": [
        "Here, we **first categorize by age** and **then adjust price based on membership status**.\n"
      ]
    },
    {
      "cell_type": "markdown",
      "id": "deacfc96",
      "metadata": {
        "id": "deacfc96"
      },
      "source": [
        "## Part 3: We Do (Complex Exercise) and Wrap-Up"
      ]
    },
    {
      "cell_type": "markdown",
      "id": "89626d5c",
      "metadata": {
        "id": "89626d5c"
      },
      "source": [
        "### **Scenario: Smart Home Automation System**\n",
        "\n",
        "You are a programmer tasked with designing a smart home system that controls the air conditioning and heating based on temperature and occupancy.\n",
        "\n",
        "**Requirements:**\n",
        "- If the room temperature is below 60°F, the heater turns on.\n",
        "- If the room temperature is above 75°F, the air conditioner turns on.\n",
        "- If no one is in the room, the system turns off all devices.\n",
        "- If someone is sleeping, the system keeps the temperature between **65°F and 72°F**.\n",
        "\n",
        "**Write a program that:**\n",
        "1. Uses predefined values for temperature, room occupancy (`True/False`), and sleeping status (`True/False`).\n",
        "2. Uses nested conditions and `elif` structures to determine the correct action.\n",
        "3. Outputs what action the system should take based on the conditions.\n",
        "\n",
        "Try modifying different values in the program to test different scenarios!"
      ]
    },
    {
      "cell_type": "code",
      "execution_count": 5,
      "id": "1f7d857e",
      "metadata": {
        "id": "1f7d857e",
        "colab": {
          "base_uri": "https://localhost:8080/"
        },
        "outputId": "082c26d8-3094-46e0-88bd-7d81e1aac6d1"
      },
      "outputs": [
        {
          "output_type": "stream",
          "name": "stdout",
          "text": [
            "Temperature is within the comfortable range.\n"
          ]
        }
      ],
      "source": [
        "temperature = 75\n",
        "occupied = True\n",
        "sleeping = False\n",
        "\n",
        "# Your logic goes here\n",
        "\n",
        "if not occupied:\n",
        "    print(\"Turn off all devices\")\n",
        "elif occupied and sleeping:\n",
        "    if temperature < 65:\n",
        "        print(\"Set the temperature to 65°F\")\n",
        "    elif temperature > 72:\n",
        "        print(\"Set the temperature to 72°F\")\n",
        "    else:\n",
        "        print(\"Temperature is within the sleeping range.\")\n",
        "elif temperature < 60:\n",
        "    print(\"Turn on the heater\")\n",
        "elif temperature > 75:\n",
        "    print(\"Turn on the air conditioner\")\n",
        "else:\n",
        "    print(\"Temperature is within the comfortable range.\")"
      ]
    },
    {
      "cell_type": "markdown",
      "id": "3bf2d934",
      "metadata": {
        "id": "3bf2d934"
      },
      "source": [
        "### Wrap-Up\n",
        "Today, we:\n",
        "- Reviewed logical operators and conditional structures\n",
        "- Learned how to **flatten** and **optimize** nested conditions\n",
        "- Used structured logic to build a **decision tree system**"
      ]
    }
  ],
  "metadata": {
    "language_info": {
      "name": "python"
    },
    "colab": {
      "provenance": [],
      "include_colab_link": true
    },
    "kernelspec": {
      "name": "python3",
      "display_name": "Python 3"
    }
  },
  "nbformat": 4,
  "nbformat_minor": 5
}