{
  "cells": [
    {
      "cell_type": "markdown",
      "metadata": {
        "id": "view-in-github",
        "colab_type": "text"
      },
      "source": [
        "<a href=\"https://colab.research.google.com/github/ma-mharris/yearupunitedPython/blob/main/Copy_of_01_session.ipynb\" target=\"_parent\"><img src=\"https://colab.research.google.com/assets/colab-badge.svg\" alt=\"Open In Colab\"/></a>"
      ]
    },
    {
      "cell_type": "markdown",
      "id": "b39d3941-3a6d-480d-8b40-051ae2cde574",
      "metadata": {
        "id": "b39d3941-3a6d-480d-8b40-051ae2cde574"
      },
      "source": [
        "# Session 1: Learning to Code\n",
        "\n",
        "Today we're going to learn what programming is, but before we do that, we're going to familiarize ourselves with __Google Colaboratory__, which is the web-based tool we'll be using throughout these pre-work sessions.\n",
        "\n",
        "## Agenda\n",
        "1. **Getting Around in Google Colaboratory** (10-15 minutes)\n",
        "2. **What is Programming/Coding?** (30 minutes): We'll learn what it means to program (or write code), as well as what is an algorithm, and write some algorithms of our own\n",
        "3. **Operators** (15 minutes): We'll learn how to do arithmetic calculations in code\n",
        "4. **Hello, world!** (15-20 minutes): We'll write our first program, and get some understanding of functions\n",
        "5. **Data (values)** (10-15 minutes): We'll learn about data (or values)"
      ]
    },
    {
      "cell_type": "code",
      "execution_count": null,
      "id": "867b3eca-ece0-49ce-8c95-fbd055e37334",
      "metadata": {
        "id": "867b3eca-ece0-49ce-8c95-fbd055e37334"
      },
      "outputs": [],
      "source": [
        "2 + 3"
      ]
    },
    {
      "cell_type": "markdown",
      "id": "_1ejC2cNjM5Y",
      "metadata": {
        "id": "_1ejC2cNjM5Y"
      },
      "source": [
        "#### Be sure you understand how to run a cell using both the run button and the keyboard shortcut...\n",
        "1. Change the expression in the cell above (e.g., make it subtraction instead of addition, change the numbers, etc.)\n",
        "2. If you ran the cell above using the run button, now run it using the keyboard shortcut"
      ]
    },
    {
      "cell_type": "markdown",
      "id": "cb202806-1888-443e-9fbe-9fc436feacdf",
      "metadata": {
        "id": "cb202806-1888-443e-9fbe-9fc436feacdf"
      },
      "source": [
        "### What are the numbers in brackets, e.g., __`[1]`__?\n",
        "* The numbers show the order in which you ran the cells\n",
        "* If you go back and re-run a cell, the order can change\n",
        "* The _input_ to the cell is what you typed, e.g., __`2 + 3`__ and the _output_ from the cell is the result that was generated (__`5`__, in this case)\n",
        "* Not every cell generates output, as we'll see shortly"
      ]
    },
    {
      "cell_type": "markdown",
      "id": "0WWcAYn6sEja",
      "metadata": {
        "id": "0WWcAYn6sEja"
      },
      "source": [
        "* Use the __`+Code / +Markdown`__ buttons to add **cells**\n",
        "  * Let's try them..."
      ]
    },
    {
      "cell_type": "markdown",
      "id": "3ef38b58-0fc0-49dc-adef-43d0d2fbeab1",
      "metadata": {
        "id": "3ef38b58-0fc0-49dc-adef-43d0d2fbeab1"
      },
      "source": [
        "# What is Coding/Programming?\n",
        "* Converting a problem you want to solve into code which solves that problem\n",
        "  * or...turning a __problem statement__ into code which will _solve_ that problem\n",
        "* A _(computer) program_ is a set of statements or instructions that tells the computer what to do\n",
        "* There's more to it...we'll revisit this definition in the next session"
      ]
    },
    {
      "cell_type": "markdown",
      "id": "vL3UVU4asl5g",
      "metadata": {
        "id": "vL3UVU4asl5g"
      },
      "source": [
        "## What's an Algorithm?\n",
        "* An _algorithm_ is a process or set of rules we follow when performing problem-solving operations (usually, but not always by a computer)\n",
        "* It's like a recipe, explaining the steps to solve the problem (e.g., bake a cake)\n",
        "* An algorithm is typically something we could give to another human and they would be able to solve the problem themselves without a computer"
      ]
    },
    {
      "cell_type": "markdown",
      "id": "wzyR9Bbksskb",
      "metadata": {
        "id": "wzyR9Bbksskb"
      },
      "source": [
        "## Let's look at some algorithms\n",
        "* An algorithm for converting Fahrenheit temperatures into Celsius:\n",
        "  1. Subtract 32 from the Fahrenheit temperature\n",
        "  2. Multiply the result by 5/9\n",
        "* An algorithm for computing the tip at a restaurant\n",
        "  1. Ask for desired tip rate (20%, 25%, 15%, etc.)\n",
        "  2. Multiply the amount of the bill by that percentage\n",
        "* An algorithm for washing your dishes\n",
        "  1. Scrub\n",
        "  2. Rinse\n",
        "  3. Repeat\n"
      ]
    },
    {
      "cell_type": "markdown",
      "id": "6voZWIEDtSac",
      "metadata": {
        "id": "6voZWIEDtSac"
      },
      "source": [
        "## Programming computers is all about __precision__\n",
        "* A computer program needs to contain _precise_ rules for the computer to follow, we can't leave out any details or our code won't work\n",
        "  * Let's watch a video that will help us understand why precision matters... https://www.youtube.com/watch?v=FN2RM-CHkuI\n",
        "\n"
      ]
    },
    {
      "cell_type": "markdown",
      "id": "2c07ee03",
      "metadata": {
        "id": "2c07ee03"
      },
      "source": [
        "## Writing Our First Program\n",
        "* When learning a new programming language, it's customary to write a [\"Hello, World!\" program](https://en.wikipedia.org/wiki/%22Hello,_World!%22_program), that is, a program which does nothing more than print \"Hello, world!\" on the screen\n",
        "* Type the following into the next cell and then run it\n",
        "\n",
        "    __`print('Hello, world!')`__"
      ]
    },
    {
      "cell_type": "code",
      "execution_count": null,
      "id": "f10822e3",
      "metadata": {
        "id": "f10822e3",
        "outputId": "1fcc5213-7ecf-4825-c40c-c918fd5086dc",
        "colab": {
          "base_uri": "https://localhost:8080/"
        }
      },
      "outputs": [
        {
          "output_type": "stream",
          "name": "stdout",
          "text": [
            "Hello, world!\n"
          ]
        }
      ],
      "source": [
        "print('Hello, world!')"
      ]
    },
    {
      "cell_type": "markdown",
      "id": "680231d8-f60e-4d91-9ec0-163b7616eafb",
      "metadata": {
        "id": "680231d8-f60e-4d91-9ec0-163b7616eafb"
      },
      "source": [
        "# Exercise: Algorithms\n",
        "* Write down algorithms to solve the following problems"
      ]
    },
    {
      "cell_type": "markdown",
      "id": "98981b76-def9-404a-92ed-3d4908fc2afe",
      "metadata": {
        "id": "98981b76-def9-404a-92ed-3d4908fc2afe"
      },
      "source": [
        "#### 1. Compute the average of 3 exam scores"
      ]
    },
    {
      "cell_type": "code",
      "execution_count": null,
      "id": "9e3fdc8a-5404-43d8-a293-7d8baed2c40e",
      "metadata": {
        "id": "9e3fdc8a-5404-43d8-a293-7d8baed2c40e"
      },
      "outputs": [],
      "source": [
        "from os import SCHED_OTHER\n",
        "# write your answer here\n",
        "Get the first exam scores\n",
        "Get the second exam scores\n",
        "Get the third exam scroes\n",
        "Add all the numbers together\n",
        "divide the total by the number of scores\n",
        "You willl get the average of the three scores"
      ]
    },
    {
      "cell_type": "markdown",
      "id": "dcccf6b2-16c9-4e54-8241-8ab68e0fa980",
      "metadata": {
        "id": "dcccf6b2-16c9-4e54-8241-8ab68e0fa980"
      },
      "source": [
        "#### 2. Determine if a number is odd or even"
      ]
    },
    {
      "cell_type": "code",
      "execution_count": null,
      "id": "b3224548-381a-4910-bd6a-caaadcfe82ee",
      "metadata": {
        "id": "b3224548-381a-4910-bd6a-caaadcfe82ee"
      },
      "outputs": [],
      "source": [
        "# write your answer here\n",
        "get the Number\n",
        "dived the number ny two\n",
        "if the remainder is 0 then the number is even\n",
        "if the remainder is 1 then the number is odd"
      ]
    },
    {
      "cell_type": "markdown",
      "id": "JCPSzVxPv20N",
      "metadata": {
        "id": "JCPSzVxPv20N"
      },
      "source": [
        "# Introduction to Programming Languages\n",
        "* Let's learn some of the basics of programming, so we can start writing some programs\n",
        "* First we'll look at some _operators_ which let us perform operations and calculations\n",
        "  * Don't worry, you need not be a math whiz to be successful at programming\n",
        "  * We'll start with arithmetic problems, so they are familiar, but once we're successful with those, we won't be doing much more of it, and we won't really do anything beyond arithmetic\n",
        "* The arithmetic operators are __+, -, &#215;, &#xF7;__\n",
        "  * The last two aren't on our keyboard, so we'll use __`*`__ for multiplication, and __`/`__ for division"
      ]
    },
    {
      "cell_type": "code",
      "execution_count": null,
      "id": "pT85d7M5wIRq",
      "metadata": {
        "colab": {
          "base_uri": "https://localhost:8080/"
        },
        "id": "pT85d7M5wIRq",
        "outputId": "cb8352f5-8fa0-4f38-f059-d6a03bbf7911"
      },
      "outputs": [
        {
          "output_type": "execute_result",
          "data": {
            "text/plain": [
              "10"
            ]
          },
          "metadata": {},
          "execution_count": 6
        }
      ],
      "source": [
        "5 + 5"
      ]
    },
    {
      "cell_type": "code",
      "execution_count": null,
      "id": "w53WFG5ZyeOU",
      "metadata": {
        "colab": {
          "base_uri": "https://localhost:8080/"
        },
        "id": "w53WFG5ZyeOU",
        "outputId": "fedc192c-b486-4a45-9152-a5fcd7b43b45"
      },
      "outputs": [
        {
          "output_type": "execute_result",
          "data": {
            "text/plain": [
              "65"
            ]
          },
          "metadata": {},
          "execution_count": 7
        }
      ],
      "source": [
        "100 - 35"
      ]
    },
    {
      "cell_type": "code",
      "execution_count": null,
      "id": "e4N8GsZ_yhCg",
      "metadata": {
        "colab": {
          "base_uri": "https://localhost:8080/"
        },
        "id": "e4N8GsZ_yhCg",
        "outputId": "4daa6de9-687f-4640-9daa-c3f8257f4bce"
      },
      "outputs": [
        {
          "output_type": "execute_result",
          "data": {
            "text/plain": [
              "57"
            ]
          },
          "metadata": {},
          "execution_count": 8
        }
      ],
      "source": [
        "3 * 19"
      ]
    },
    {
      "cell_type": "code",
      "execution_count": null,
      "id": "-HkaBVIJyiaE",
      "metadata": {
        "colab": {
          "base_uri": "https://localhost:8080/"
        },
        "id": "-HkaBVIJyiaE",
        "outputId": "8acae54e-1a42-453e-854f-a4a96c1cc01b"
      },
      "outputs": [
        {
          "output_type": "execute_result",
          "data": {
            "text/plain": [
              "2.2"
            ]
          },
          "metadata": {},
          "execution_count": 9
        }
      ],
      "source": [
        "33 / 15"
      ]
    },
    {
      "cell_type": "code",
      "execution_count": null,
      "id": "ZlQOiXveyrhB",
      "metadata": {
        "colab": {
          "base_uri": "https://localhost:8080/"
        },
        "id": "ZlQOiXveyrhB",
        "outputId": "d7a64ca6-0eb2-4fa2-d8fb-dfbf2d53cd53"
      },
      "outputs": [
        {
          "output_type": "execute_result",
          "data": {
            "text/plain": [
              "20"
            ]
          },
          "metadata": {},
          "execution_count": 10
        }
      ],
      "source": [
        "# programming languages also have parentheses, for grouping\n",
        "(2 + 3) * 4"
      ]
    },
    {
      "cell_type": "code",
      "execution_count": null,
      "id": "Km-1p6eH08Ww",
      "metadata": {
        "id": "Km-1p6eH08Ww"
      },
      "outputs": [],
      "source": [
        "# vs.\n",
        "2 + 3 * 4"
      ]
    },
    {
      "cell_type": "markdown",
      "id": "c7b75f0d-64c2-41c9-b5e9-62170d7b9870",
      "metadata": {
        "id": "c7b75f0d-64c2-41c9-b5e9-62170d7b9870"
      },
      "source": [
        "* In addition, we can do exponentiation (a<sup>b</sup>) and compute the modulus, or remainder when performing integer division"
      ]
    },
    {
      "cell_type": "code",
      "execution_count": null,
      "id": "ef68c81b-8138-404e-9c58-3d0a7474bc4b",
      "metadata": {
        "id": "ef68c81b-8138-404e-9c58-3d0a7474bc4b",
        "outputId": "dfb2270b-a447-41f5-bad7-8a551818c690",
        "colab": {
          "base_uri": "https://localhost:8080/"
        }
      },
      "outputs": [
        {
          "output_type": "execute_result",
          "data": {
            "text/plain": [
              "32"
            ]
          },
          "metadata": {},
          "execution_count": 11
        }
      ],
      "source": [
        "2 ** 5 # exponentiation operator: 2 * 2 * 2 * 2 * 2"
      ]
    },
    {
      "cell_type": "code",
      "execution_count": null,
      "id": "a07184e0-85e5-4317-9e60-72991bdbf2f3",
      "metadata": {
        "id": "a07184e0-85e5-4317-9e60-72991bdbf2f3"
      },
      "outputs": [],
      "source": [
        "19 % 5 # modulus operator: what is the remainder when dividing 19 by 5"
      ]
    },
    {
      "cell_type": "code",
      "execution_count": null,
      "id": "c9090e86-2145-4e7c-8d14-da13b721a588",
      "metadata": {
        "id": "c9090e86-2145-4e7c-8d14-da13b721a588"
      },
      "outputs": [],
      "source": [
        "18 % 3 # what is the remainder when dividing 18 by 3"
      ]
    },
    {
      "cell_type": "markdown",
      "id": "da38fa65-d6cf-44d4-b0d3-d496f9cf78fa",
      "metadata": {
        "id": "da38fa65-d6cf-44d4-b0d3-d496f9cf78fa"
      },
      "source": [
        "* What we've written above are technically _numerical expressions_, and these same expressions would work in many programming languages"
      ]
    },
    {
      "cell_type": "markdown",
      "id": "92ffc7a9-a8eb-4524-a855-b1bf70896ecf",
      "metadata": {
        "id": "92ffc7a9-a8eb-4524-a855-b1bf70896ecf"
      },
      "source": [
        "## Exercise: Write numerical expressions to convert temperatures from Fahrenheit to Celsius\n",
        "* Remember the _algorithm_, or _process_ for doing this:\n",
        "  1. __Subtract 32 from the Fahrenheit temperature__\n",
        "  2. __Multiply the result by 5/9__\n",
        "\n",
        "### Try it with 72ºF"
      ]
    },
    {
      "cell_type": "code",
      "execution_count": null,
      "id": "109c1ba3-6cfd-41af-875d-38efb911a290",
      "metadata": {
        "id": "109c1ba3-6cfd-41af-875d-38efb911a290",
        "outputId": "96a9ae2d-c88d-48d9-d6cb-69ec51cf63ab",
        "colab": {
          "base_uri": "https://localhost:8080/"
        }
      },
      "outputs": [
        {
          "output_type": "execute_result",
          "data": {
            "text/plain": [
              "-22.22222222222222"
            ]
          },
          "metadata": {},
          "execution_count": 14
        }
      ],
      "source": [
        "(32 - 72) * 5/9\n"
      ]
    },
    {
      "cell_type": "markdown",
      "id": "kDoRJBKWumOx",
      "metadata": {
        "id": "kDoRJBKWumOx"
      },
      "source": [
        "## Analyzing our First Program\n",
        "* We used a builtin __`print`__ _function_ to print text to the screen\n",
        "* OK...so what's a function?"
      ]
    },
    {
      "cell_type": "markdown",
      "id": "048d5c69-163f-4861-bd25-ae563ce883ca",
      "metadata": {
        "id": "048d5c69-163f-4861-bd25-ae563ce883ca"
      },
      "source": [
        "# Functions\n",
        "* We can think of a function as being like an \"appliance\"\n",
        "    * An appliance performs a task for us\n",
        "  * e.g., a blender is a \"function\"\n",
        "    * You put stuff into it\n",
        "    * Then push the button\n",
        "    * Altered stuff is returned to you\n",
        "* Some functions DO something, but don't compute a result\n",
        "    * __`print()`__ is just such a function\n",
        "* Other functions compute a result and return (or give back) that result\n",
        "  * Try typing __`round(2.71)`__ into the cell below, but before you run it, try to guess what result will be computed and returned"
      ]
    },
    {
      "cell_type": "code",
      "execution_count": null,
      "id": "0644c736-1b21-478d-a9e9-601ba7f2c82c",
      "metadata": {
        "id": "0644c736-1b21-478d-a9e9-601ba7f2c82c",
        "outputId": "0d677b00-c379-4e87-9800-34be3a284182",
        "colab": {
          "base_uri": "https://localhost:8080/"
        }
      },
      "outputs": [
        {
          "output_type": "execute_result",
          "data": {
            "text/plain": [
              "3"
            ]
          },
          "metadata": {},
          "execution_count": 15
        }
      ],
      "source": [
        "round(2.71)"
      ]
    },
    {
      "cell_type": "markdown",
      "id": "01f65706-6a0d-4d34-9eb8-7fd49d7030dd",
      "metadata": {
        "id": "01f65706-6a0d-4d34-9eb8-7fd49d7030dd"
      },
      "source": [
        "### Food for thought\n",
        "* Can you think of an appliance that performs the same function as a blender, but does not return anything to you afterwards?"
      ]
    },
    {
      "cell_type": "markdown",
      "id": "cohG1oGIvBJs",
      "metadata": {
        "id": "cohG1oGIvBJs"
      },
      "source": [
        "## What is a Function in Programming?\n",
        "* A function is a named snippet of _code_ (program statements) that performs a specific task (e.g., outputting text to the screen) or computes/returns a result (e.g., __`round(2.71)`__ returned 3)\n",
        "  * Some functions (e.g., __`print()`__ and __`round()`__) are built in to programming languages and always available for us to use\n",
        "* A function can be used in a program wherever that particular task/functionality is needed"
      ]
    },
    {
      "cell_type": "markdown",
      "id": "0vgsbiAdxwk9",
      "metadata": {
        "id": "0vgsbiAdxwk9"
      },
      "source": [
        "# Data (or Values)"
      ]
    },
    {
      "cell_type": "markdown",
      "id": "o0Pf84GYyLQO",
      "metadata": {
        "id": "o0Pf84GYyLQO"
      },
      "source": [
        "* Computer programs typically manipulate _data_ (or \"values\")\n",
        "  * Data can be numbers, names, or any text (and other things we'll investigate later)\n",
        "* It's useful to think of computer programs as _accepting some input_ and _producing some output_\n",
        "  * The data (or values) are provided as input to the program, and some other data are produced as output"
      ]
    },
    {
      "cell_type": "markdown",
      "id": "DTIwbgs6yl6m",
      "metadata": {
        "id": "DTIwbgs6yl6m"
      },
      "source": [
        "## Basic Data Types\n",
        "* __int__ (integers) values are whole numbers which have no fractional part\n",
        "  * e.g., __`42`__, __`-1`__, __`2025`__\n",
        "* __float__ (short for \"floating point\") values are numbers which have a decimal point and possibly digits after the decimal point\n",
        "  * e.g, __`3.1415`__, __`212.`__, __`-1.5`__\n",
        "* __string__ values are sequences of text surrounded by single or double quotes\n",
        "  * e.g., __`'I love programming!'`__, __`\"Hello, world!\"`__\n",
        "* We can use the builtin function __`type()`__ to tell us the type of a value"
      ]
    },
    {
      "cell_type": "code",
      "execution_count": null,
      "id": "99850586-c823-40fc-9b93-baaadb9d7174",
      "metadata": {
        "id": "99850586-c823-40fc-9b93-baaadb9d7174"
      },
      "outputs": [],
      "source": [
        "# As a reminder, lines that begin with a '#' are comments.\n",
        "# They are for humans, and are ignored by the computer.\n",
        "#\n",
        "# NOTE: always think about the response you expect before running a cell..."
      ]
    },
    {
      "cell_type": "code",
      "execution_count": null,
      "id": "7b4d446f-24da-4539-8eca-56d39d7b0282",
      "metadata": {
        "id": "7b4d446f-24da-4539-8eca-56d39d7b0282"
      },
      "outputs": [],
      "source": [
        "type('42')"
      ]
    },
    {
      "cell_type": "code",
      "execution_count": null,
      "id": "3hGYx6c6yuuq",
      "metadata": {
        "id": "3hGYx6c6yuuq"
      },
      "outputs": [],
      "source": [
        "# Notice that you can chain values together with a comma, and the\n",
        "# result will be a comma-separated list of results in parentheses...\n",
        "\n",
        "type(-1), type(212.), type('hello')"
      ]
    },
    {
      "cell_type": "markdown",
      "id": "a620b7fe-9239-448d-bdfa-a34596209a6a",
      "metadata": {
        "id": "a620b7fe-9239-448d-bdfa-a34596209a6a"
      },
      "source": [
        "## Exercise: The Builtin Function __`type()`__\n",
        "* Use the __`type()`__ function to find out the type of the following values and expressions"
      ]
    },
    {
      "cell_type": "markdown",
      "id": "a0d68038-f75c-431e-9241-0b284c574c20",
      "metadata": {
        "id": "a0d68038-f75c-431e-9241-0b284c574c20"
      },
      "source": [
        "__`'35 + 5'`__\n",
        "  "
      ]
    },
    {
      "cell_type": "code",
      "execution_count": null,
      "id": "171eabbf-1a1b-446e-9e70-476490af1d61",
      "metadata": {
        "id": "171eabbf-1a1b-446e-9e70-476490af1d61",
        "outputId": "aba147ec-4be8-4c9a-82e3-05d8b6b62972",
        "colab": {
          "base_uri": "https://localhost:8080/"
        }
      },
      "outputs": [
        {
          "output_type": "execute_result",
          "data": {
            "text/plain": [
              "str"
            ]
          },
          "metadata": {},
          "execution_count": 16
        }
      ],
      "source": [
        "type('35 + 5')"
      ]
    },
    {
      "cell_type": "markdown",
      "id": "4c2a5211-45cd-4111-a3fe-c1fecf1e7c1c",
      "metadata": {
        "id": "4c2a5211-45cd-4111-a3fe-c1fecf1e7c1c"
      },
      "source": [
        "__`35.0 + 5`__\n",
        "  "
      ]
    },
    {
      "cell_type": "code",
      "execution_count": null,
      "id": "c57c469c-6933-401b-be00-eb6b192d5930",
      "metadata": {
        "id": "c57c469c-6933-401b-be00-eb6b192d5930",
        "outputId": "fcc84924-209c-4c82-f68d-7d7d24325e5c",
        "colab": {
          "base_uri": "https://localhost:8080/"
        }
      },
      "outputs": [
        {
          "output_type": "execute_result",
          "data": {
            "text/plain": [
              "float"
            ]
          },
          "metadata": {},
          "execution_count": 17
        }
      ],
      "source": [
        "type(35.0 + 5)"
      ]
    },
    {
      "cell_type": "markdown",
      "id": "7558fd49",
      "metadata": {
        "id": "7558fd49"
      },
      "source": [
        "### Wrap-Up\n",
        "Today, we:\n",
        "- Learned about navigating the Colab environment and executing code cells\n",
        "- Reviewed what algorithms are and how they work\n",
        "- Wrote our first simple programs and explored basic data types"
      ]
    }
  ],
  "metadata": {
    "colab": {
      "provenance": [],
      "include_colab_link": true
    },
    "kernelspec": {
      "display_name": "3.12.2",
      "language": "python",
      "name": "python3"
    },
    "language_info": {
      "codemirror_mode": {
        "name": "ipython",
        "version": 3
      },
      "file_extension": ".py",
      "mimetype": "text/x-python",
      "name": "python",
      "nbconvert_exporter": "python",
      "pygments_lexer": "ipython3",
      "version": "3.12.2"
    }
  },
  "nbformat": 4,
  "nbformat_minor": 5
}