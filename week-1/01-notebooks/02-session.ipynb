{
  "cells": [
    {
      "cell_type": "markdown",
      "metadata": {
        "id": "view-in-github",
        "colab_type": "text"
      },
      "source": [
        "<a href=\"https://colab.research.google.com/github/ma-mharris/yearupunitedPython/blob/main/week-1/01-notebooks/02-session.ipynb\" target=\"_parent\"><img src=\"https://colab.research.google.com/assets/colab-badge.svg\" alt=\"Open In Colab\"/></a>"
      ]
    },
    {
      "cell_type": "markdown",
      "id": "479a287c-657e-4912-95ec-702d83aca53e",
      "metadata": {
        "id": "479a287c-657e-4912-95ec-702d83aca53e"
      },
      "source": [
        "# Session 2: Variables and Boolean Expressions\n",
        "\n",
        "Today we're going to dig deeper into the process of programming, or coding. We're going to learn about _conditionals_, which is the way we make our code act based on a condition or predicate. We can change the outcome based on the state of a program, and have different outcomes for different states.\n",
        "\n",
        "## Agenda\n",
        "1. **Review of Previous Session/Homework** (15 minutes): Be sure we all understand what was covered in the last session before moving forward\n",
        "2. **Variables** (15 minutes): We will learn what a variable is, how to name them, and how to use them\n",
        "3. **Boolean variables/Boolean expressions** (10-15 minutes): We will learn about expressions and variables which are not numbers or strings, but rather, True or False\n",
        "4. **Conditional/\"if\" Statements** (45 minutes): We will learn how to ask yes/no questions in our code, and run different code based on the answers we get"
      ]
    },
    {
      "cell_type": "markdown",
      "id": "416931a9-ecc3-4dc8-a5c1-6cab6b769f52",
      "metadata": {
        "id": "416931a9-ecc3-4dc8-a5c1-6cab6b769f52"
      },
      "source": [
        "# Review"
      ]
    },
    {
      "cell_type": "markdown",
      "id": "0be892e7-2acf-4e01-a27d-98f96199db29",
      "metadata": {
        "id": "0be892e7-2acf-4e01-a27d-98f96199db29"
      },
      "source": [
        "Let's review key concepts from Session 1 before moving on...\n",
        "\n",
        "**Key Topics from Session 1:**\n",
        "- Algorithms\n",
        "- Numeric operators\n",
        "- Functions\n",
        "- Basic data types\n",
        "  \n",
        "### Quick Review Questions:\n",
        "1. What's an algorithm?\n",
        "2. What are the basic numeric operators?\n",
        "3. What are built-in functions, and which ones have we seen so far?\n",
        "4. What are the basic data types in programming? (We'll learn one more today...)"
      ]
    },
    {
      "cell_type": "markdown",
      "id": "cff7333f-0c8f-4386-9c48-109c3a3d8331",
      "metadata": {
        "id": "cff7333f-0c8f-4386-9c48-109c3a3d8331"
      },
      "source": [
        "# Variables\n",
        "* Named \"boxes\" inside the computer's memory into which you can put values (data)\n",
        "* We can put a value into a variable by using an _assignment statement_, e.g.,\n",
        "  * __`year = 2025`__\n",
        "  * __`name = 'Grace Hopper'`__\n",
        "* An assignment statement is not a statement of equality (like we're used to from mathematics)\n",
        "  * Instead, it's a directive to put whatever _value_ is on the right-hand side of the __`=`__ into the variable on the left hand side"
      ]
    },
    {
      "cell_type": "code",
      "execution_count": null,
      "id": "8081d570-1ecc-4892-ab40-5b6517b7a3b6",
      "metadata": {
        "id": "8081d570-1ecc-4892-ab40-5b6517b7a3b6"
      },
      "outputs": [],
      "source": [
        "year = 2025\n",
        "year"
      ]
    },
    {
      "cell_type": "code",
      "execution_count": 1,
      "id": "f627830b-12b2-43bd-a247-201c578f3f49",
      "metadata": {
        "id": "f627830b-12b2-43bd-a247-201c578f3f49",
        "outputId": "e56abf62-7eca-4260-a513-8528018b92ca",
        "colab": {
          "base_uri": "https://localhost:8080/",
          "height": 36
        }
      },
      "outputs": [
        {
          "output_type": "execute_result",
          "data": {
            "text/plain": [
              "'Grace Hopper'"
            ],
            "application/vnd.google.colaboratory.intrinsic+json": {
              "type": "string"
            }
          },
          "metadata": {},
          "execution_count": 1
        }
      ],
      "source": [
        "name = 'Grace Hopper'\n",
        "name"
      ]
    },
    {
      "cell_type": "markdown",
      "id": "8a282c34-bb87-4d6a-8969-8fe31918aae9",
      "metadata": {
        "id": "8a282c34-bb87-4d6a-8969-8fe31918aae9"
      },
      "source": [
        "### Some thoughts about variable names...\n",
        "* They may be arbitrarily long\n",
        "* They may contain both letters and numbers, but must begin with a letter\n",
        "* Uppercase letters are allowed, but by convention we don't use them (programming languages are often _case sensitive_–in other words __`counter`__ and __`Counter`__ are different variables)\n",
        "* You should choose meaningful names for your variables:\n",
        "  * __`counter`__ instead of __`c`__\n",
        "  * __`cost_per_ounce`__ instead of __`cpo`__\n",
        "  * __`first_name`__ instead of __`fn`__ or even __`fname`__\n",
        "* As you can see above, variable names can include underscores–use them to make your variable names clearer\n",
        "  * ...but do not start a variable name with an underscore"
      ]
    },
    {
      "cell_type": "markdown",
      "id": "fd2e118d-a475-4b9b-b7b5-20da2369cdbe",
      "metadata": {
        "id": "fd2e118d-a475-4b9b-b7b5-20da2369cdbe"
      },
      "source": [
        "## Exercise: Variables\n",
        "Using an assignment statement, create a variable called __`first_name`__ and set it equal to a name of your choosing"
      ]
    },
    {
      "cell_type": "code",
      "execution_count": 2,
      "id": "eb1bd501-1432-4e3b-81ac-e05bfe1d7f52",
      "metadata": {
        "id": "eb1bd501-1432-4e3b-81ac-e05bfe1d7f52"
      },
      "outputs": [],
      "source": [
        "first_name = 'Alijah'"
      ]
    },
    {
      "cell_type": "markdown",
      "id": "14257e59-fd94-430f-86d7-9f90e91cfb3c",
      "metadata": {
        "id": "14257e59-fd94-430f-86d7-9f90e91cfb3c"
      },
      "source": [
        "## Careful!\n",
        "* It's important to understand the difference between\n",
        "  * _evaluating an expression_ ... and ...\n",
        "  * _printing a value_"
      ]
    },
    {
      "cell_type": "code",
      "execution_count": null,
      "id": "92909b52-1d6d-4a1b-a699-e5c4d4614f5e",
      "metadata": {
        "id": "92909b52-1d6d-4a1b-a699-e5c4d4614f5e"
      },
      "outputs": [],
      "source": [
        "# First, let's remember that an assignment statement tells the computer to DO something\n",
        "# ...but nothing is printed\n",
        "name = 'Margaret Hamilton'"
      ]
    },
    {
      "cell_type": "code",
      "execution_count": null,
      "id": "0854d75c-d681-4b5f-96b7-b5497910eede",
      "metadata": {
        "id": "0854d75c-d681-4b5f-96b7-b5497910eede"
      },
      "outputs": [],
      "source": [
        "name # ask the computer to evaluate this \"expression\", i.e.,\n",
        "     # ... \"Hey computer, show me the value inside this variable\""
      ]
    },
    {
      "cell_type": "markdown",
      "id": "4d3178ed-0e96-400b-bb22-b00bdaadcfbe",
      "metadata": {
        "id": "4d3178ed-0e96-400b-bb22-b00bdaadcfbe"
      },
      "source": [
        "* When the interpreter displays the value of an expression, it uses the same format you would use to enter its value–so in the case of strings, that means that it includes the quotes\n",
        "* But when you call the __`print()`__ function, the output displays the contents of the string without the quotes..."
      ]
    },
    {
      "cell_type": "code",
      "execution_count": 5,
      "id": "70f1071b-a248-4641-8e43-1f301310bab5",
      "metadata": {
        "id": "70f1071b-a248-4641-8e43-1f301310bab5",
        "outputId": "e0c74cfa-ca96-411b-def0-81488059e425",
        "colab": {
          "base_uri": "https://localhost:8080/"
        }
      },
      "outputs": [
        {
          "output_type": "stream",
          "name": "stdout",
          "text": [
            "Hello, my name is Grace Hopper\n"
          ]
        }
      ],
      "source": [
        "print('Hello, my name is', name) # would the quotes make sense here?\n"
      ]
    },
    {
      "cell_type": "markdown",
      "id": "2bfaf031-13fa-4443-8ad5-7c61c4d7678f",
      "metadata": {
        "id": "2bfaf031-13fa-4443-8ad5-7c61c4d7678f"
      },
      "source": [
        "## Boolean variables\n",
        "* We've learned about about __`int`__, __`float`__, and __`str`__ data types\n",
        "* Boolean variables (__`bool`__) are the final basic data type\n",
        "  * named after British mathematician [George Boole](https://en.wikipedia.org/wiki/George_Boole)\n",
        "* A Boolean variable can have one of two values–__`True`__ or __`False`__\n",
        "  * you can think of __`True`__ as __yes__ or __on__\n",
        "  * ...and __`False`__ is analogous to __no__ or __off__\n",
        "* At this point it might seem strange to have a variable which can only contain __`True`__ or __`False`__, so in order to help us understand these kind of variables, we're first going to introduce the idea of a __Boolean expression__...\n",
        "  * It's an expression that can only be __`True`__ or __`False`__\n",
        "  * Think of it as an __answer__ to a __yes or no__ question\n",
        "  * Let's try it...as usual, do not run a cell until you have thought about what you expect the output of the cell to be"
      ]
    },
    {
      "cell_type": "code",
      "execution_count": 6,
      "id": "f6f3173f-38fc-455f-93b1-2fb7d61dbc7f",
      "metadata": {
        "id": "f6f3173f-38fc-455f-93b1-2fb7d61dbc7f",
        "outputId": "5b9489d9-85e4-45d7-d949-5d9c57cc3c36",
        "colab": {
          "base_uri": "https://localhost:8080/"
        }
      },
      "outputs": [
        {
          "output_type": "execute_result",
          "data": {
            "text/plain": [
              "True"
            ]
          },
          "metadata": {},
          "execution_count": 6
        }
      ],
      "source": [
        "4 > 3 # is this True or False?"
      ]
    },
    {
      "cell_type": "code",
      "execution_count": 7,
      "id": "0e3a6405-a554-4542-b87f-9eca9cd22d8c",
      "metadata": {
        "id": "0e3a6405-a554-4542-b87f-9eca9cd22d8c",
        "outputId": "bf936034-c71e-405f-ca1d-e4f81b7ce21e",
        "colab": {
          "base_uri": "https://localhost:8080/"
        }
      },
      "outputs": [
        {
          "output_type": "execute_result",
          "data": {
            "text/plain": [
              "False"
            ]
          },
          "metadata": {},
          "execution_count": 7
        }
      ],
      "source": [
        "# the == operator is used to compare objects\n",
        "# i.e., are the objects on either side of the == the same?\n",
        "'Tailor' == 'tailor'"
      ]
    },
    {
      "cell_type": "code",
      "execution_count": 8,
      "id": "eaced649-79c7-461a-a5b0-d52d56a31ec3",
      "metadata": {
        "id": "eaced649-79c7-461a-a5b0-d52d56a31ec3",
        "outputId": "49b048a0-5c0b-4428-f470-ea0f8e715268",
        "colab": {
          "base_uri": "https://localhost:8080/"
        }
      },
      "outputs": [
        {
          "output_type": "execute_result",
          "data": {
            "text/plain": [
              "True"
            ]
          },
          "metadata": {},
          "execution_count": 8
        }
      ],
      "source": [
        "3 * 9 == 27 # True or False?"
      ]
    },
    {
      "cell_type": "markdown",
      "id": "b6d42ba0-df2a-4e67-8b50-7c69105c3fdb",
      "metadata": {
        "id": "b6d42ba0-df2a-4e67-8b50-7c69105c3fdb"
      },
      "source": [
        "* Let's try some Boolean expressions with variables in the mix..."
      ]
    },
    {
      "cell_type": "code",
      "execution_count": 9,
      "id": "6f923619-3413-435b-8b21-90a1e6206347",
      "metadata": {
        "id": "6f923619-3413-435b-8b21-90a1e6206347",
        "outputId": "fe47a175-6518-4f46-a5a3-c61d533a7c08",
        "colab": {
          "base_uri": "https://localhost:8080/"
        }
      },
      "outputs": [
        {
          "output_type": "execute_result",
          "data": {
            "text/plain": [
              "False"
            ]
          },
          "metadata": {},
          "execution_count": 9
        }
      ],
      "source": [
        "name == 'Margaret Hamilton'"
      ]
    },
    {
      "cell_type": "code",
      "execution_count": 10,
      "id": "283c367a-6e28-4583-b356-cbc50b5c19de",
      "metadata": {
        "id": "283c367a-6e28-4583-b356-cbc50b5c19de",
        "outputId": "d8c5171a-0939-45a8-8886-be45a09c8735",
        "colab": {
          "base_uri": "https://localhost:8080/",
          "height": 141
        }
      },
      "outputs": [
        {
          "output_type": "error",
          "ename": "NameError",
          "evalue": "name 'year' is not defined",
          "traceback": [
            "\u001b[0;31m---------------------------------------------------------------------------\u001b[0m",
            "\u001b[0;31mNameError\u001b[0m                                 Traceback (most recent call last)",
            "\u001b[0;32m/tmp/ipython-input-4024831022.py\u001b[0m in \u001b[0;36m<cell line: 0>\u001b[0;34m()\u001b[0m\n\u001b[0;32m----> 1\u001b[0;31m \u001b[0myear\u001b[0m \u001b[0;34m>\u001b[0m \u001b[0;36m2000\u001b[0m \u001b[0;31m# 21st century? True or False?\u001b[0m\u001b[0;34m\u001b[0m\u001b[0;34m\u001b[0m\u001b[0m\n\u001b[0m",
            "\u001b[0;31mNameError\u001b[0m: name 'year' is not defined"
          ]
        }
      ],
      "source": [
        "year > 2000 # 21st century? True or False?"
      ]
    },
    {
      "cell_type": "markdown",
      "id": "0c730f5d-726c-415d-be48-e690141d63df",
      "metadata": {
        "id": "0c730f5d-726c-415d-be48-e690141d63df"
      },
      "source": [
        "# Conditionals (\"if\" statements)\n",
        "* Now that we understand the idea of Boolean expressions, we can use them to ask questions in our code"
      ]
    },
    {
      "cell_type": "code",
      "execution_count": 13,
      "id": "a0acef54-a216-4e4a-9f86-5de3eb6daa2a",
      "metadata": {
        "id": "a0acef54-a216-4e4a-9f86-5de3eb6daa2a"
      },
      "outputs": [],
      "source": [
        "number = 24"
      ]
    },
    {
      "cell_type": "code",
      "execution_count": 21,
      "id": "6f508b61-2fc1-4c04-adf1-96525bcc69f7",
      "metadata": {
        "id": "6f508b61-2fc1-4c04-adf1-96525bcc69f7"
      },
      "outputs": [],
      "source": [
        "if number < 24: # this is called an \"if statement\"\n",
        "    print('Less than two dozen')"
      ]
    },
    {
      "cell_type": "code",
      "execution_count": 22,
      "id": "ad82ec65-6235-4be6-8039-3b9988a7f97c",
      "metadata": {
        "id": "ad82ec65-6235-4be6-8039-3b9988a7f97c",
        "outputId": "df7ed7ac-4e02-4051-8286-bf5dd87418f7",
        "colab": {
          "base_uri": "https://localhost:8080/"
        }
      },
      "outputs": [
        {
          "output_type": "stream",
          "name": "stdout",
          "text": [
            "Two dozen or more\n"
          ]
        }
      ],
      "source": [
        "if number >= 24: # is number greater than or equal to 24?\n",
        "    print('Two dozen or more')"
      ]
    },
    {
      "cell_type": "markdown",
      "id": "1d57be0e-f981-410d-b270-9850280b15b0",
      "metadata": {
        "id": "1d57be0e-f981-410d-b270-9850280b15b0"
      },
      "source": [
        "#### Note that __`if`__ statements can have an optional else part"
      ]
    },
    {
      "cell_type": "code",
      "execution_count": 23,
      "id": "37af2bae-5ffa-40c8-9392-7798a01a33c3",
      "metadata": {
        "id": "37af2bae-5ffa-40c8-9392-7798a01a33c3",
        "outputId": "d9b4355d-630b-45bd-9eff-50f9a7d80a33",
        "colab": {
          "base_uri": "https://localhost:8080/"
        }
      },
      "outputs": [
        {
          "output_type": "stream",
          "name": "stdout",
          "text": [
            "24 is even\n"
          ]
        }
      ],
      "source": [
        "if number % 2 == 0:\n",
        "    print(number, 'is even')\n",
        "else:\n",
        "    print(number, 'is odd')"
      ]
    },
    {
      "cell_type": "markdown",
      "id": "1d6926dc-b254-4663-9b64-f41fc5d3803b",
      "metadata": {
        "id": "1d6926dc-b254-4663-9b64-f41fc5d3803b"
      },
      "source": [
        "#### And they can have one or more \"else if\" parts, which is written __`elif`__ in this language"
      ]
    },
    {
      "cell_type": "code",
      "execution_count": 24,
      "id": "c15dd67e-6a28-4a28-81fb-94679d43199d",
      "metadata": {
        "id": "c15dd67e-6a28-4a28-81fb-94679d43199d",
        "outputId": "2cb5295e-da7d-4818-d6fc-67bd111b26c0",
        "colab": {
          "base_uri": "https://localhost:8080/"
        }
      },
      "outputs": [
        {
          "output_type": "stream",
          "name": "stdout",
          "text": [
            "24 is positive\n"
          ]
        }
      ],
      "source": [
        "if number > 0: # is number greater than 0?\n",
        "    print(number, 'is positive')\n",
        "elif number < 0: # is number less than 0?\n",
        "    print(number, 'is negative')\n",
        "else:\n",
        "    print('zero')"
      ]
    },
    {
      "cell_type": "markdown",
      "id": "d3b08796-9ea5-4dcd-9e12-5f27e0027bf7",
      "metadata": {
        "id": "d3b08796-9ea5-4dcd-9e12-5f27e0027bf7"
      },
      "source": [
        "## Exercise: if statements\n",
        "Write an if statement to check if the variable __`first_name`__ is equal to a name of your choosing"
      ]
    },
    {
      "cell_type": "code",
      "execution_count": 25,
      "id": "94ec119d-79a9-45e4-904a-279d97f9f345",
      "metadata": {
        "id": "94ec119d-79a9-45e4-904a-279d97f9f345",
        "outputId": "eccdd8fc-24fb-4ec1-c65e-7ed269d80f3c",
        "colab": {
          "base_uri": "https://localhost:8080/"
        }
      },
      "outputs": [
        {
          "output_type": "stream",
          "name": "stdout",
          "text": [
            "My name is Alijah\n"
          ]
        }
      ],
      "source": [
        "if first_name == 'Alijah':\n",
        "    print('My name is', first_name)"
      ]
    },
    {
      "cell_type": "markdown",
      "id": "95a11e8e-2b81-4282-8fde-0eba5c5ff396",
      "metadata": {
        "id": "95a11e8e-2b81-4282-8fde-0eba5c5ff396"
      },
      "source": [
        "### What happens after we've written our algorithm?\n",
        "* Before we write code, we convert the algorithm to __pseudocode__\n",
        "  * A mix of English and programming constructs\n",
        "  * Should include the structure, i.e., the indentation\n",
        "  * ...but don't worry about the details/quirks of any specific programming language"
      ]
    },
    {
      "cell_type": "markdown",
      "id": "181d949d-d91c-4fe1-bf4a-452f6c4275e1",
      "metadata": {
        "id": "181d949d-d91c-4fe1-bf4a-452f6c4275e1"
      },
      "source": [
        "# What is Coding/Programming? (redux)\n",
        "* In the first session, we said it was...\n",
        "  * Converting a problem you want to solve into code which solves that problem\n",
        "    * or...Turning a __problem statement__ into code which will _solve_ that problem\n",
        "* Now let's talk about how we will actually do it\n",
        "  1. Write an algorithm–this should be understandable by another human (a non-programmer)\n",
        "     * therefore, we will not include any programming-specific language constructs at this stage\n",
        "     * once you have something that a non-programmer could read and perform the task, you're done with this step\n",
        "  2. Convert the algorithm to pseudocode\n",
        "     * think of this as a \"stepping stone\" to a code solution, but don't need to worry about the details of a specific language\n",
        "     * the goal is to have steps which can be converted, one by one into code\n",
        "  3. Convert each pseudocode step into actual code, and comment each line of code with the step it corresponds to\n",
        "  4. Let's see an example..."
      ]
    },
    {
      "cell_type": "markdown",
      "id": "2033cf9d",
      "metadata": {
        "id": "2033cf9d"
      },
      "source": [
        "### Wrap-Up\n",
        "Today, we:\n",
        "- Practiced creating and using variables\n",
        "- Learned how Boolean values work in programming\n",
        "- Applied conditionals to make decisions in our code"
      ]
    }
  ],
  "metadata": {
    "language_info": {
      "name": "python"
    },
    "colab": {
      "provenance": [],
      "include_colab_link": true
    },
    "kernelspec": {
      "name": "python3",
      "display_name": "Python 3"
    }
  },
  "nbformat": 4,
  "nbformat_minor": 5
}