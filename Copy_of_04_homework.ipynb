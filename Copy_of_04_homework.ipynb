{
  "cells": [
    {
      "cell_type": "markdown",
      "metadata": {
        "id": "view-in-github",
        "colab_type": "text"
      },
      "source": [
        "<a href=\"https://colab.research.google.com/github/ma-mharris/yearupunitedPython/blob/main/Copy_of_04_homework.ipynb\" target=\"_parent\"><img src=\"https://colab.research.google.com/assets/colab-badge.svg\" alt=\"Open In Colab\"/></a>"
      ]
    },
    {
      "cell_type": "markdown",
      "metadata": {
        "id": "OZ2_dGjE_PIj"
      },
      "source": [
        "# Homework 4: Advanced Logic"
      ]
    },
    {
      "cell_type": "markdown",
      "metadata": {
        "id": "HRYqTUfc_PIn"
      },
      "source": [
        "## **Submission Guidelines**"
      ]
    },
    {
      "cell_type": "markdown",
      "metadata": {
        "id": "jmoyIXNo_PIo"
      },
      "source": [
        "* Focus on completing Exercises 1-4. Exercises 5 are _stretch challenges_.\n",
        "* Submit your work as a single Python file (__`.py`__) or a Jupyter Notebook (__`.ipynb`__).\n",
        "* Clearly label each exercise and include comments to explain your logic."
      ]
    },
    {
      "cell_type": "markdown",
      "metadata": {
        "id": "LZfw7f5U_PIp"
      },
      "source": [
        "\n",
        "\n",
        "## Instructions"
      ]
    },
    {
      "cell_type": "markdown",
      "metadata": {
        "id": "oLHbt-5n_PIq"
      },
      "source": [
        "\n",
        "Copy this Jupyter Notebook and complete each exercise in the provided spaces.  \n",
        "\n",
        "- Clearly label each exercise and include comments explaining your logic.  \n",
        "- Focus on completing Exercises 1–4; Exercise 5 is a stretch challenge.\n",
        "- Modify the predefined variables as needed to test different cases.  \n",
        "\n",
        "**Remember to start with the English steps, write pseudocode, then write code.**"
      ]
    },
    {
      "cell_type": "markdown",
      "metadata": {
        "id": "fvGdvEEu_PIr"
      },
      "source": [
        "## **Exercise 1: Multi-Condition Decisions**"
      ]
    },
    {
      "cell_type": "markdown",
      "metadata": {
        "id": "EXRVfG_i_PIs"
      },
      "source": [
        "\n",
        "A **movie rating system** follows these rules:\n",
        "   - If `age` is **less than 13**, print `\"PG movies only\"`.\n",
        "   - If `age` is **between 13 and 17**, print `\"PG-13 movies allowed\"`.\n",
        "   - Otherwise, print `\"All movies allowed\"`."
      ]
    },
    {
      "cell_type": "code",
      "execution_count": null,
      "metadata": {
        "colab": {
          "base_uri": "https://localhost:8080/"
        },
        "id": "tiHOGtNb_PIs",
        "outputId": "8373ba1e-22ed-4690-cf7d-d4052c00cacb"
      },
      "outputs": [
        {
          "output_type": "stream",
          "name": "stdout",
          "text": [
            "PG-13 movies allowed\n"
          ]
        }
      ],
      "source": [
        "# Exercise 1\n",
        "\n",
        "age = 15  # Change this value to test\n",
        "\n",
        "# Enter user age\n",
        "# When the user age is 13 print pg movies only\n",
        "# when the user age is between 13 and 17 print pg- 13 movies allowed\n",
        "# If not print all movies allowed\n",
        "\n",
        "# Your logic here\n",
        "\n",
        "if age < 13:\n",
        "    print(\"PG movies only\")\n",
        "elif age >= 13 and age <= 17:\n",
        "    print(\"PG-13 movies allowed\")\n",
        "else:\n",
        "    print(\"All movies allowed\")\n"
      ]
    },
    {
      "cell_type": "markdown",
      "metadata": {
        "id": "U5zKgI0w_PIu"
      },
      "source": [
        "## **Exercise 2: Decision Tree for Discounts**"
      ]
    },
    {
      "cell_type": "markdown",
      "metadata": {
        "id": "N10c-sQ8_PIu"
      },
      "source": [
        "\n",
        "A **discount system** follows these rules:\n",
        "- If `is_student` is `True`, apply a 20% discount.\n",
        "- If `age` is **65 or older**, apply a 15% discount.\n",
        "- If both conditions are met, apply the higher discount only."
      ]
    },
    {
      "cell_type": "code",
      "execution_count": null,
      "metadata": {
        "colab": {
          "base_uri": "https://localhost:8080/"
        },
        "id": "ViCtB0g1_PIu",
        "outputId": "120da9b6-5cee-4041-bdc6-fcac67be88af"
      },
      "outputs": [
        {
          "output_type": "stream",
          "name": "stdout",
          "text": [
            "20% discount applied\n"
          ]
        }
      ],
      "source": [
        "# Exercise 2\n",
        "\n",
        "is_student = True  # Change this value to test\n",
        "age = 70  # Change this value to test\n",
        "\n",
        "# If the user is a student apply a 20% discount\n",
        "# If the user is older than 65 apply a 15% discount\n",
        "# If not apply no discount\n",
        "\n",
        "# Your logic here\n",
        "\n",
        "if is_student:\n",
        "    print(\"20% discount applied\")\n",
        "elif age >= 65:\n",
        "    print(\"15% discount applied\")\n",
        "else:\n",
        "    print(\"No discount applied\")"
      ]
    },
    {
      "cell_type": "markdown",
      "metadata": {
        "id": "XyZp5XhE_PIv"
      },
      "source": [
        "\n",
        "## **Exercise 3: Loan Approval System**"
      ]
    },
    {
      "cell_type": "markdown",
      "metadata": {
        "id": "f7S401Lx_PIv"
      },
      "source": [
        "\n",
        "A **loan approval system** follows these rules:\n",
        "- Applicant **must be at least 18**.\n",
        "- Loan is **approved** if `income` is over **40k** OR `credit_score` is above **700**.\n",
        "- If the applicant has `has_debt = True`, then **both** conditions are required."
      ]
    },
    {
      "cell_type": "code",
      "execution_count": null,
      "metadata": {
        "colab": {
          "base_uri": "https://localhost:8080/"
        },
        "id": "3lLsLKoj_PIv",
        "outputId": "e95f02be-6948-4aba-de26-8a926fe53a6e"
      },
      "outputs": [
        {
          "output_type": "stream",
          "name": "stdout",
          "text": [
            "Loan approved\n"
          ]
        }
      ],
      "source": [
        "# Exercise 3\n",
        "\n",
        "age = 32  # Change this value to test\n",
        "income = 46000  # Change this value to test\n",
        "credit_score = 720  # Change this value to test\n",
        "has_debt = True  # Change this value to test\n",
        "\n",
        "# Apply for loan if the user age must be 18\n",
        "# Is the user income over 40K or their credit score above 700\n",
        "# If so they are arrove\n",
        "# If the user has debt and all condition are required\n",
        "\n",
        "# Your logic here\n",
        "\n",
        "if age >= 18 and (income > 40000 or credit_score > 700):\n",
        "    print(\"Loan approved\")\n",
        "elif age >= 18 and has_debt:\n",
        "    print(\"Loan denied\")\n",
        "else:\n",
        "    print(\"Loan denied\")"
      ]
    },
    {
      "cell_type": "markdown",
      "metadata": {
        "id": "gaRNJy_h_PIw"
      },
      "source": [
        "## **Exercise 4: Complex Weather Decision System**"
      ]
    },
    {
      "cell_type": "markdown",
      "metadata": {
        "id": "Aq30e37h_PIw"
      },
      "source": [
        "\n",
        "A **weather advisory system** follows these rules:\n",
        "- If `temperature` is **below 32°F**, print `\"Freezing warning\"`.\n",
        "- If `temperature` is **between 32°F and 50°F**, print `\"Cold weather\"`.\n",
        "- If `temperature` is **above 50°F** and `humidity` is **above 70%**, print `\"Warm but humid\"`.\n",
        "- Otherwise, print `\"Mild weather\"`.\n"
      ]
    },
    {
      "cell_type": "code",
      "execution_count": null,
      "metadata": {
        "colab": {
          "base_uri": "https://localhost:8080/"
        },
        "id": "FCXmcCqe_PIw",
        "outputId": "ba8c93df-ae16-4367-d2da-ffd621a3a86b"
      },
      "outputs": [
        {
          "output_type": "stream",
          "name": "stdout",
          "text": [
            "Warm but humid\n"
          ]
        }
      ],
      "source": [
        "# Exercise 4\n",
        "\n",
        "temperature = 75  # Change this value to test\n",
        "humidity = 85  # Change this value to test\n",
        "\n",
        "# Your logic here\n",
        "\n",
        "if temperature < 32:\n",
        "    print(\"Freezing warning\")\n",
        "elif temperature >= 32 and temperature <= 50:\n",
        "    print(\"Cold weather\")\n",
        "elif temperature > 50 and humidity > 70:\n",
        "    print(\"Warm but humid\")\n",
        "else:\n",
        "    print(\"Mild weather\")"
      ]
    },
    {
      "cell_type": "markdown",
      "metadata": {
        "id": "iqG5FtKM_PIw"
      },
      "source": [
        "## **Exercise 5: Advanced Multi-Step Bank Security System (Extra Hard)**"
      ]
    },
    {
      "cell_type": "markdown",
      "metadata": {
        "id": "tx98IcM1_PIw"
      },
      "source": [
        "\n",
        "Design a **bank security system** that follows these rules:\n",
        "- If `is_employee = True`, grant full access.\n",
        "- If `is_manager = True`, grant access to sensitive files.\n",
        "- If `is_customer = True` and `account_balance > 1000`, allow transactions.\n",
        "- If none of the conditions apply, print `\"Access Denied\"`.\n",
        "- **Extended Rule:** If `security_alert = True`, deny all access regardless of other conditions."
      ]
    },
    {
      "cell_type": "code",
      "execution_count": null,
      "metadata": {
        "colab": {
          "base_uri": "https://localhost:8080/"
        },
        "id": "AGsHsF0K_PIx",
        "outputId": "398148c2-7738-4ad6-b918-9008ee3d3b40"
      },
      "outputs": [
        {
          "output_type": "stream",
          "name": "stdout",
          "text": [
            "Transactions allowed\n"
          ]
        }
      ],
      "source": [
        "# Exercise 5\n",
        "\n",
        "is_employee = False  # Change this value to test\n",
        "is_manager = False  # Change this value to test\n",
        "is_customer = True  # Change this value to test\n",
        "account_balance = 5000  # Change this value to test\n",
        "security_alert = False  # Change this value to test\n",
        "\n",
        "\n",
        "# Your logic here\n",
        "\n",
        "if is_employee:\n",
        "    print(\"Full access granted\")\n",
        "elif is_manager:\n",
        "    print(\"Access to sensitive files granted\")\n",
        "elif is_customer and account_balance > 1000:\n",
        "    print(\"Transactions allowed\")\n",
        "\n"
      ]
    }
  ],
  "metadata": {
    "language_info": {
      "name": "python"
    },
    "colab": {
      "provenance": [],
      "include_colab_link": true
    },
    "kernelspec": {
      "name": "python3",
      "display_name": "Python 3"
    }
  },
  "nbformat": 4,
  "nbformat_minor": 0
}